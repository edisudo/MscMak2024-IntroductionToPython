{
 "cells": [
  {
   "cell_type": "code",
   "execution_count": 1,
   "metadata": {},
   "outputs": [
    {
     "name": "stdout",
     "output_type": "stream",
     "text": [
      "Mangoes\n",
      "Apple\n",
      "Oranges\n"
     ]
    }
   ],
   "source": [
    "fruits = {'Mangoes', 'Oranges','Apple'}\n",
    "for i in fruits:\n",
    "    print(i)\n",
    "    "
   ]
  },
  {
   "cell_type": "code",
   "execution_count": 49,
   "metadata": {},
   "outputs": [
    {
     "data": {
      "text/plain": [
       "'petunia,5.95\\nalyssum,3.95\\nbegonia,5.95\\nsunflower,5.95\\ncoelius,4.95\\n'"
      ]
     },
     "execution_count": 49,
     "metadata": {},
     "output_type": "execute_result"
    }
   ],
   "source": [
    "data = open(\"Data/flowers.csv\")\n",
    "data.read()\n"
   ]
  },
  {
   "cell_type": "code",
   "execution_count": 51,
   "metadata": {},
   "outputs": [
    {
     "name": "stdout",
     "output_type": "stream",
     "text": [
      "['petunia', '5.95']\n",
      "['alyssum', '3.95']\n",
      "['begonia', '5.95']\n",
      "['sunflower', '5.95']\n",
      "['coelius', '4.95']\n"
     ]
    }
   ],
   "source": [
    "import csv\n",
    "with open(\"Data/flowers.csv\") as file:\n",
    "    csvreader = csv.reader(file)\n",
    "    for row in csvreader:\n",
    "        print(row)\n"
   ]
  }
 ],
 "metadata": {
  "kernelspec": {
   "display_name": "bioPython",
   "language": "python",
   "name": "python3"
  },
  "language_info": {
   "codemirror_mode": {
    "name": "ipython",
    "version": 3
   },
   "file_extension": ".py",
   "mimetype": "text/x-python",
   "name": "python",
   "nbconvert_exporter": "python",
   "pygments_lexer": "ipython3",
   "version": "3.12.0"
  }
 },
 "nbformat": 4,
 "nbformat_minor": 2
}
