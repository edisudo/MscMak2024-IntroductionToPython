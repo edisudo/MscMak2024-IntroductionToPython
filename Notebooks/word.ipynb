{
 "cells": [
  {
   "cell_type": "code",
   "execution_count": 2,
   "metadata": {},
   "outputs": [
    {
     "name": "stdout",
     "output_type": "stream",
     "text": [
      "\" 16\n"
     ]
    }
   ],
   "source": [
    "import tkinter as tk\n",
    "from tkinter import filedialog\n",
    "\n",
    "root = tk.Tk()\n",
    "root.withdraw()  # Hide the main window\n",
    "\n",
    "file_path = filedialog.askopenfilename(title=\"Select File\")  # Open file dialog window\n",
    "\n",
    "if file_path:\n",
    "    try:\n",
    "        with open(file_path, 'r') as handle:\n",
    "            counts = {}\n",
    "\n",
    "            for line in handle:\n",
    "                words = line.split()\n",
    "                for word in words:\n",
    "                    counts[word] = counts.get(word, 0) + 1\n",
    "\n",
    "            bigcount = None\n",
    "            bigword = None\n",
    "            for word, count in counts.items():\n",
    "                if bigcount is None or count > bigcount:\n",
    "                    bigword = word\n",
    "                    bigcount = count\n",
    "\n",
    "            print(bigword, bigcount)\n",
    "    except FileNotFoundError:\n",
    "        print(\"File not found. Please select a valid file.\")\n"
   ]
  }
 ],
 "metadata": {
  "kernelspec": {
   "display_name": "bioPython",
   "language": "python",
   "name": "python3"
  },
  "language_info": {
   "codemirror_mode": {
    "name": "ipython",
    "version": 3
   },
   "file_extension": ".py",
   "mimetype": "text/x-python",
   "name": "python",
   "nbconvert_exporter": "python",
   "pygments_lexer": "ipython3",
   "version": "3.12.2"
  }
 },
 "nbformat": 4,
 "nbformat_minor": 2
}
