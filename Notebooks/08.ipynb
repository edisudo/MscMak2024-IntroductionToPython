{
 "cells": [
  {
   "cell_type": "markdown",
   "metadata": {},
   "source": [
    "<small><small><i>\n",
    "Introduction to Python for Bioinformatics - available at https://github.com/GunzIvan28/MScMak2024-IntroductionToPython.\n",
    "</i></small></small>\n",
    "\n",
    "## Data Analysis with Pandas\n",
    "\n",
    "For this topic, we are going to use resources available from Data carpentry's [Python for Ecologists](http://www.datacarpentry.org/python-ecology-lesson/). \n",
    "\n",
    "\n",
    "### Set up\n",
    "\n",
    "Ensure you have installed `pandas` and `matplotlib` before the session. \n",
    "\n",
    "`conda install pandas`\n",
    "\n",
    "Follow the instructions provided [here](http://www.datacarpentry.org/python-ecology-lesson/setup) for further details on setting up, and to download the data. \n",
    "\n",
    "### Some useful resources\n",
    "\n",
    "1. [10 Minutes Pandas](https://pandas.pydata.org/pandas-docs/stable/10min.html) provides a quick introduction to pandas Data Types and syntax\n",
    "2. Dataquest's [Pandas Tutorial: Data analysis with Python: Part 1](https://www.dataquest.io/blog/pandas-python-tutorial/)\n",
    "3. Coding Club's [Python Data Analysis with Pandas and Matplotlib](https://ourcodingclub.github.io/2018/04/18/pandas-python-intro.html)\n",
    "\n",
    "### Training format\n",
    "\n",
    "In this lesson, we will use live coding to follow along with Python for Ecologist's resources. "
   ]
  },
  {
   "cell_type": "code",
   "execution_count": 2,
   "metadata": {},
   "outputs": [
    {
     "name": "stdout",
     "output_type": "stream",
     "text": [
      "Collecting pandas\n",
      "  Downloading pandas-2.2.1-cp311-cp311-win_amd64.whl.metadata (19 kB)\n",
      "Requirement already satisfied: numpy<2,>=1.23.2 in c:\\users\\ivan\\appdata\\local\\programs\\python\\python311\\lib\\site-packages (from pandas) (1.26.4)\n",
      "Requirement already satisfied: python-dateutil>=2.8.2 in c:\\users\\ivan\\appdata\\roaming\\python\\python311\\site-packages (from pandas) (2.8.2)\n",
      "Collecting pytz>=2020.1 (from pandas)\n",
      "  Downloading pytz-2024.1-py2.py3-none-any.whl.metadata (22 kB)\n",
      "Collecting tzdata>=2022.7 (from pandas)\n",
      "  Downloading tzdata-2024.1-py2.py3-none-any.whl.metadata (1.4 kB)\n",
      "Requirement already satisfied: six>=1.5 in c:\\users\\ivan\\appdata\\roaming\\python\\python311\\site-packages (from python-dateutil>=2.8.2->pandas) (1.16.0)\n",
      "Downloading pandas-2.2.1-cp311-cp311-win_amd64.whl (11.6 MB)\n",
      "   ---------------------------------------- 0.0/11.6 MB ? eta -:--:--\n",
      "   ---------------------------------------- 0.0/11.6 MB 960.0 kB/s eta 0:00:13\n",
      "   ---------------------------------------- 0.1/11.6 MB 1.0 MB/s eta 0:00:12\n",
      "    --------------------------------------- 0.2/11.6 MB 1.2 MB/s eta 0:00:10\n",
      "    --------------------------------------- 0.3/11.6 MB 1.6 MB/s eta 0:00:08\n",
      "   - -------------------------------------- 0.5/11.6 MB 2.2 MB/s eta 0:00:05\n",
      "   - -------------------------------------- 0.6/11.6 MB 2.3 MB/s eta 0:00:05\n",
      "   --- ------------------------------------ 1.1/11.6 MB 3.4 MB/s eta 0:00:04\n",
      "   ---- ----------------------------------- 1.2/11.6 MB 3.3 MB/s eta 0:00:04\n",
      "   ------- -------------------------------- 2.1/11.6 MB 5.2 MB/s eta 0:00:02\n",
      "   -------- ------------------------------- 2.5/11.6 MB 5.4 MB/s eta 0:00:02\n",
      "   ------------- -------------------------- 3.8/11.6 MB 7.6 MB/s eta 0:00:02\n",
      "   ---------------- ----------------------- 4.7/11.6 MB 8.6 MB/s eta 0:00:01\n",
      "   ----------------- ---------------------- 5.0/11.6 MB 8.7 MB/s eta 0:00:01\n",
      "   ------------------- -------------------- 5.5/11.6 MB 8.6 MB/s eta 0:00:01\n",
      "   --------------------- ------------------ 6.1/11.6 MB 8.9 MB/s eta 0:00:01\n",
      "   ----------------------- ---------------- 7.0/11.6 MB 9.4 MB/s eta 0:00:01\n",
      "   --------------------------- ------------ 8.0/11.6 MB 10.2 MB/s eta 0:00:01\n",
      "   ------------------------------- -------- 9.1/11.6 MB 10.9 MB/s eta 0:00:01\n",
      "   ----------------------------------- ---- 10.2/11.6 MB 11.7 MB/s eta 0:00:01\n",
      "   ---------------------------------------  11.6/11.6 MB 18.7 MB/s eta 0:00:01\n",
      "   ---------------------------------------  11.6/11.6 MB 18.7 MB/s eta 0:00:01\n",
      "   ---------------------------------------- 11.6/11.6 MB 16.8 MB/s eta 0:00:00\n",
      "Downloading pytz-2024.1-py2.py3-none-any.whl (505 kB)\n",
      "   ---------------------------------------- 0.0/505.5 kB ? eta -:--:--\n",
      "   --------------------------------------  501.8/505.5 kB 15.4 MB/s eta 0:00:01\n",
      "   --------------------------------------- 505.5/505.5 kB 10.5 MB/s eta 0:00:00\n",
      "Downloading tzdata-2024.1-py2.py3-none-any.whl (345 kB)\n",
      "   ---------------------------------------- 0.0/345.4 kB ? eta -:--:--\n",
      "   --------------------------------------- 345.4/345.4 kB 10.5 MB/s eta 0:00:00\n",
      "Installing collected packages: pytz, tzdata, pandas\n",
      "Successfully installed pandas-2.2.1 pytz-2024.1 tzdata-2024.1\n",
      "Note: you may need to restart the kernel to use updated packages.\n"
     ]
    }
   ],
   "source": [
    "pip install pandas"
   ]
  },
  {
   "cell_type": "code",
   "execution_count": 3,
   "metadata": {},
   "outputs": [],
   "source": [
    "import pandas as pd"
   ]
  },
  {
   "cell_type": "code",
   "execution_count": 3,
   "metadata": {},
   "outputs": [],
   "source": [
    "gene_list = []  # Define gene_list outside the loop\n",
    "with open(\"../Data/humchrx.txt\", \"r\") as file_data:\n",
    "    count = 0  # Initialize line count\n",
    "    for line in file_data:  # Iterate through each line in the file\n",
    "        # Skip the first 36 lines\n",
    "        count += 1  # Increment line count\n",
    "        if count <= 36:  # Check if current line is within the first 36 lines\n",
    "            continue  \n",
    "        # Check if the line consists entirely of dashes\n",
    "        if (line.strip()== \"--------------------------------------------------------------------------------\"):\n",
    "            break  # Exit the loop if a line of dashes is encountered\n",
    "        # Split the line into words\n",
    "        data = line.split()\n",
    "        # Check if the line is not empty and has at least one element\n",
    "        if data:\n",
    "            gene_name = data[0].strip(\"-\")  # Extract gene name from the first element while stripping off '-'\n",
    "            gene_list.append(gene_name)  # Append gene name to gene_list\n",
    "with open(\"gene_names.txt\", \"w\") as gene_file:\n",
    "    gene_file.write(gene_name)\n",
    "    # gene_file.close()\n",
    "# Print gene_list outside the loop\n",
    "# for gene in gene_list:  # Iterate through each gene in gene_list\n",
    "#     print(gene)  # Print the gene"
   ]
  },
  {
   "cell_type": "code",
   "execution_count": 10,
   "metadata": {},
   "outputs": [
    {
     "ename": "SyntaxError",
     "evalue": "invalid syntax (2004414081.py, line 1)",
     "output_type": "error",
     "traceback": [
      "\u001b[1;36m  Cell \u001b[1;32mIn[10], line 1\u001b[1;36m\u001b[0m\n\u001b[1;33m    sudo chmod 777 .\u001b[0m\n\u001b[1;37m         ^\u001b[0m\n\u001b[1;31mSyntaxError\u001b[0m\u001b[1;31m:\u001b[0m invalid syntax\n"
     ]
    }
   ],
   "source": [
    "sudo chmod 777 ."
   ]
  }
 ],
 "metadata": {
  "kernelspec": {
   "display_name": "Python 3",
   "language": "python",
   "name": "python3"
  },
  "language_info": {
   "codemirror_mode": {
    "name": "ipython",
    "version": 3
   },
   "file_extension": ".py",
   "mimetype": "text/x-python",
   "name": "python",
   "nbconvert_exporter": "python",
   "pygments_lexer": "ipython3",
   "version": "3.7.4"
  }
 },
 "nbformat": 4,
 "nbformat_minor": 4
}
