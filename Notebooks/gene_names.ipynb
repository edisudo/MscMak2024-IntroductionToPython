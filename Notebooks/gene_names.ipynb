{
 "cells": [
  {
   "cell_type": "markdown",
   "metadata": {},
   "source": [
    "#### Fetching file from the web\n",
    "Download this [file](https://www.uniprot.org/docs/humchrx.txt) we will use to explore file reading in python. "
   ]
  },
  {
   "cell_type": "code",
   "execution_count": 1,
   "metadata": {},
   "outputs": [
    {
     "data": {
      "text/plain": [
       "('../Data/humchrx.txt', <http.client.HTTPMessage at 0x71849060ed80>)"
      ]
     },
     "execution_count": 1,
     "metadata": {},
     "output_type": "execute_result"
    }
   ],
   "source": [
    "import urllib.request                                 #Script for python to replace 'wget for bash'....so import urlib.request\n",
    "\n",
    "url = \"https://www.uniprot.org/docs/humchrx.txt\"      #specify url\n",
    "destination_filename = \"../Data/humchrx.txt\"          #specify destination\n",
    "urllib.request.urlretrieve(url, destination_filename) #format of the import script"
   ]
  },
  {
   "cell_type": "markdown",
   "metadata": {},
   "source": [
    "### Exercise 1\n",
    "\n",
    "Write a function the reads the file (humchrx.txt) and writes to another file (gene_names.txt) a clean list of gene names."
   ]
  },
  {
   "cell_type": "code",
   "execution_count": null,
   "metadata": {},
   "outputs": [],
   "source": [
    "gene_list = []  # Define gene_list outside the loop\n",
    "with open(\"../Data/humchrx.txt\", \"r\") as file_data:\n",
    "    count = 0  # Initialize line count\n",
    "    for line in file_data:  # Iterate through each line in the file\n",
    "        # Skip the first 36 lines\n",
    "        count += 1  # Increment line count\n",
    "        if count <= 36:  # Check if current line is within the first 36 lines\n",
    "            continue  \n",
    "        # Check if the line consists entirely of dashes\n",
    "        if (line.strip()== \"--------------------------------------------------------------------------------\"):\n",
    "            break  # Exit the loop if a line of dashes is encountered\n",
    "        # Split the line into words\n",
    "        data = line.split()\n",
    "        # Check if the line is not empty and has at least one element\n",
    "        if data:\n",
    "            gene_name = data[0].strip(\"-\")  # Extract gene name from the first element while stripping off '-'\n",
    "            gene_list.append(gene_name)  # Append gene name to gene_list\n",
    "# Print gene_list outside the loop\n",
    "for gene in gene_list:  # Iterate through each gene in gene_list\n",
    "    print(gene)  # Print the gene"
   ]
  }
 ],
 "metadata": {
  "kernelspec": {
   "display_name": "bioPython",
   "language": "python",
   "name": "python3"
  },
  "language_info": {
   "codemirror_mode": {
    "name": "ipython",
    "version": 3
   },
   "file_extension": ".py",
   "mimetype": "text/x-python",
   "name": "python",
   "nbconvert_exporter": "python",
   "pygments_lexer": "ipython3",
   "version": "3.12.0"
  }
 },
 "nbformat": 4,
 "nbformat_minor": 2
}
